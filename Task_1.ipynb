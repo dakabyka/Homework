:
def f(N):
    sum = 0
    for i  in range(1, N+1):
        if i % 15 == 0:
            sum  += i
    return sum