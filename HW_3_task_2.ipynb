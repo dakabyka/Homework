{
 "cells": [
  {
   "cell_type": "markdown",
   "metadata": {},
   "source": [
    "### Из римских цифр в арабские"
   ]
  },
  {
   "cell_type": "code",
   "execution_count": 14,
   "metadata": {},
   "outputs": [
    {
     "name": "stdout",
     "output_type": "stream",
     "text": [
      "MCMXCIX\n",
      "1999\n"
     ]
    }
   ],
   "source": [
    "rimStr = str(input()) \n",
    "rimStr = list(rimStr) \n",
    "myDict = {'I': 1, 'V': 5, 'X': 10, 'L': 50, 'C': 100, 'D': 500, 'M': 1000} \n",
    "a = myDict[rimStr[0]] \n",
    "arabN = 0 \n",
    "for i in rimStr[1:-1]: \n",
    "    if a >= myDict[i]: \n",
    "        arabN += a \n",
    "    if a < myDict[i]: \n",
    "        arabN -= a \n",
    "    a = myDict[i] \n",
    "if a >= myDict[rimStr[-1]]: \n",
    "    arabN += a + myDict[rimStr[-1]] \n",
    "else: \n",
    "    arabN += myDict[rimStr[-1]] - a \n",
    "print(arabN)"
   ]
  },
  {
   "cell_type": "code",
   "execution_count": null,
   "metadata": {},
   "outputs": [],
   "source": []
  }
 ],
 "metadata": {
  "kernelspec": {
   "display_name": "Python 3",
   "language": "python",
   "name": "python3"
  },
  "language_info": {
   "codemirror_mode": {
    "name": "ipython",
    "version": 3
   },
   "file_extension": ".py",
   "mimetype": "text/x-python",
   "name": "python",
   "nbconvert_exporter": "python",
   "pygments_lexer": "ipython3",
   "version": "3.6.7"
  }
 },
 "nbformat": 4,
 "nbformat_minor": 2
}
