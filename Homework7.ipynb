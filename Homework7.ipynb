{
 "cells": [
  {
   "cell_type": "code",
   "execution_count": 2,
   "metadata": {},
   "outputs": [],
   "source": [
    "import numpy as np\n",
    "import matplotlib\n",
    "import math\n",
    "import matplotlib.pyplot as plt\n",
    "from random import randint"
   ]
  },
  {
   "cell_type": "markdown",
   "metadata": {},
   "source": [
    "1.Create a null vector of size 10 but the fifth value which is 1"
   ]
  },
  {
   "cell_type": "code",
   "execution_count": 3,
   "metadata": {},
   "outputs": [
    {
     "data": {
      "text/plain": [
       "array([0, 0, 0, 0, 1, 0, 0, 0, 0, 0])"
      ]
     },
     "execution_count": 3,
     "metadata": {},
     "output_type": "execute_result"
    }
   ],
   "source": [
    "a=np.array([1 if i==4 else 0 for i in range(10)])\n",
    "a"
   ]
  },
  {
   "cell_type": "markdown",
   "metadata": {},
   "source": [
    " 2.Reverse a vector (first element becomes last)"
   ]
  },
  {
   "cell_type": "code",
   "execution_count": 5,
   "metadata": {},
   "outputs": [
    {
     "data": {
      "text/plain": [
       "array(['a', 'y', 'r', 'a', 'D'], dtype='<U1')"
      ]
     },
     "execution_count": 5,
     "metadata": {},
     "output_type": "execute_result"
    }
   ],
   "source": [
    "a=np.array(list('Darya'))\n",
    "a[::-1]"
   ]
  },
  {
   "cell_type": "markdown",
   "metadata": {},
   "source": [
    "3.Create a 3x3 matrix with values ranging from 0 to 8"
   ]
  },
  {
   "cell_type": "code",
   "execution_count": 8,
   "metadata": {},
   "outputs": [
    {
     "data": {
      "text/plain": [
       "array([[0., 1., 2.],\n",
       "       [3., 4., 5.],\n",
       "       [6., 7., 8.]])"
      ]
     },
     "execution_count": 8,
     "metadata": {},
     "output_type": "execute_result"
    }
   ],
   "source": [
    "a = np.arange(9, dtype=float).reshape((3, 3))\n",
    "a"
   ]
  },
  {
   "cell_type": "markdown",
   "metadata": {},
   "source": [
    "4.Create a 8x8 matrix and fill it with a checkerboard pattern"
   ]
  },
  {
   "cell_type": "code",
   "execution_count": 46,
   "metadata": {},
   "outputs": [
    {
     "data": {
      "text/plain": [
       "array([[' ', '■', ' ', '■', ' ', '■', ' ', '■'],\n",
       "       ['■', ' ', '■', ' ', '■', ' ', '■', ' '],\n",
       "       [' ', '■', ' ', '■', ' ', '■', ' ', '■'],\n",
       "       ['■', ' ', '■', ' ', '■', ' ', '■', ' '],\n",
       "       [' ', '■', ' ', '■', ' ', '■', ' ', '■'],\n",
       "       ['■', ' ', '■', ' ', '■', ' ', '■', ' '],\n",
       "       [' ', '■', ' ', '■', ' ', '■', ' ', '■'],\n",
       "       ['■', ' ', '■', ' ', '■', ' ', '■', ' ']], dtype='<U1')"
      ]
     },
     "execution_count": 46,
     "metadata": {},
     "output_type": "execute_result"
    }
   ],
   "source": [
    "a=np.array(['\\u25A0' if abs((i//8)%2-i%2)==1 else ' ' for i in range(64)]).reshape(8,8)\n",
    "a"
   ]
  },
  {
   "cell_type": "markdown",
   "metadata": {},
   "source": [
    " 5.Consider a random 10x2 matrix representing cartesian coordinates, convert them to polar coordinates "
   ]
  },
  {
   "cell_type": "code",
   "execution_count": 10,
   "metadata": {},
   "outputs": [
    {
     "data": {
      "text/plain": [
       "array([[-2, -5],\n",
       "       [ 6, -4],\n",
       "       [-3, -6],\n",
       "       [-3, -7],\n",
       "       [-7, -1],\n",
       "       [ 3, -7],\n",
       "       [ 6,  6],\n",
       "       [ 3,  2],\n",
       "       [ 4, -2],\n",
       "       [ 0,  5]])"
      ]
     },
     "execution_count": 10,
     "metadata": {},
     "output_type": "execute_result"
    }
   ],
   "source": [
    "a=np.array([randint(-10,10) for i in range(20)]).reshape(10, 2)\n",
    "a"
   ]
  },
  {
   "cell_type": "code",
   "execution_count": 12,
   "metadata": {},
   "outputs": [
    {
     "data": {
      "text/plain": [
       "array([[ 5.38516481, -1.19028995],\n",
       "       [ 7.21110255, -0.5880026 ],\n",
       "       [ 6.70820393, -1.10714872],\n",
       "       [ 7.61577311, -1.16590454],\n",
       "       [ 7.07106781, -0.14189705],\n",
       "       [ 7.61577311, -1.16590454],\n",
       "       [ 8.48528137,  0.78539816],\n",
       "       [ 3.60555128,  0.5880026 ],\n",
       "       [ 4.47213595, -0.46364761],\n",
       "       [ 5.        ,  1.57079633]])"
      ]
     },
     "execution_count": 12,
     "metadata": {},
     "output_type": "execute_result"
    }
   ],
   "source": [
    "b=np.zeros(20).reshape(10,2)\n",
    "for i in range(10):\n",
    "    b[i,0]=math.sqrt(a[i,0]**2+a[i,1]**2)\n",
    "    b[i,1]=np.arcsin(a[i,1]/b[i,0]) if b[i,0]!=0 else 0.\n",
    "b"
   ]
  },
  {
   "cell_type": "markdown",
   "metadata": {},
   "source": [
    "6.A snail curve is defined by the following equation in polar coordinates: 𝑟=𝑎+cos𝜙. Plot the curve on an 𝑥-𝑦 plane for several values of 𝑎. (Hint: np.linspace creates a linearly spaced array of values)"
   ]
  },
  {
   "cell_type": "code",
   "execution_count": 15,
   "metadata": {},
   "outputs": [
    {
     "data": {
      "image/png": "[encoded data removed]",
      "text/plain": [
       "<Figure size 432x288 with 1 Axes>"
      ]
     },
     "metadata": {
      "needs_background": "light"
     },
     "output_type": "display_data"
    }
   ],
   "source": [
    "a=1\n",
    "phi=np.linspace(-5,5,100)\n",
    "for p in phi:\n",
    "    for a in range(1,4):\n",
    "        r=a/2+np.cos(p)\n",
    "        plt.plot(r*math.cos(p), r*math.sin(p), '.', color='blue')"
   ]
  },
  {
   "cell_type": "code",
   "execution_count": 50,
   "metadata": {},
   "outputs": [
    {
     "name": "stdout",
     "output_type": "stream",
     "text": [
      "[0.07142857142857142, 0.1, 0.06666666666666667, 0.1, 0.07692307692307693, 0.07692307692307693, 0.1111111111111111, 0.07142857142857142, 0.1111111111111111, 0.08333333333333333, 0.05555555555555555, 0.07142857142857142, 0.05263157894736842, 0.07142857142857142, 0.058823529411764705, 0.07692307692307693, 0.1111111111111111, 0.07142857142857142, 0.1111111111111111, 0.08333333333333333, 0.09090909090909091, 0.14285714285714285, 0.08333333333333333, 0.14285714285714285, 0.1]\n"
     ]
    }
   ],
   "source": [
    "a=np.array([randint(1,10) for i in range(5)]).reshape(5,1)\n",
    "b=np.array([randint(1,10) for i in range(5)])\n",
    "c=np.zeros(25)\n",
    "j=0\n",
    "for i in np.broadcast(a,b):\n",
    "    c[j]=1/(i[0]+i[1])\n",
    "    j+=1\n",
    "print(list(c))"
   ]
  }
 ],
 "metadata": {
  "kernelspec": {
   "display_name": "Python 3",
   "language": "python",
   "name": "python3"
  },
  "language_info": {
   "codemirror_mode": {
    "name": "ipython",
    "version": 3
   },
   "file_extension": ".py",
   "mimetype": "text/x-python",
   "name": "python",
   "nbconvert_exporter": "python",
   "pygments_lexer": "ipython3",
   "version": "3.6.7"
  }
 },
 "nbformat": 4,
 "nbformat_minor": 2
}
