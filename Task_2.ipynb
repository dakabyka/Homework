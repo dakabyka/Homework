{
 "cells": [
  {
   "cell_type": "code",
   "execution_count": 14,
   "metadata": {},
   "outputs": [],
   "source": [
    "def f(a1, b1, c1):\n",
    "    d = (b1**2 - 4*a1*c1)**0.5\n",
    "    x1 = (-b1 + d)/2\n",
    "    x2 = (-b1 - d)/2\n",
    "    if (c1 != 0) and (x1 == 0 or x2 == 0):\n",
    "        if x2 == 0:\n",
    "            x2 = -c1 / b1\n",
    "        if x1 == 0:\n",
    "            x1 = -c1 / b1\n",
    "    return x1, x2\n"
   ]
  },
  {
   "cell_type": "code",
   "execution_count": 15,
   "metadata": {
    "scrolled": true
   },
   "outputs": [
    {
     "name": "stdout",
     "output_type": "stream",
     "text": [
      "(-1e-20, -1e+20)\n"
     ]
    }
   ],
   "source": [
    "print(f(1, 10**20, 1))"
   ]
  },
  {
   "cell_type": "code",
   "execution_count": 16,
   "metadata": {
    "scrolled": false
   },
   "outputs": [
    {
     "name": "stdout",
     "output_type": "stream",
     "text": [
      "(-1.0, -1.0)\n"
     ]
    }
   ],
   "source": [
    "a = 1\n",
    "b = 2\n",
    "c = 1\n",
    "print(f(a, b, c))"
   ]
  },
  {
   "cell_type": "code",
   "execution_count": 17,
   "metadata": {},
   "outputs": [
    {
     "name": "stdout",
     "output_type": "stream",
     "text": [
      "(-2.0871215252208017, -47.9128784747792)\n"
     ]
    }
   ],
   "source": [
    "a = 1\n",
    "b = 50\n",
    "c = 100\n",
    "print(f(a, b, c))"
   ]
  },
  {
   "cell_type": "code",
   "execution_count": 18,
   "metadata": {},
   "outputs": [
    {
     "name": "stdout",
     "output_type": "stream",
     "text": [
      "((-0.4999999999999939+99.9987499921874j), (-0.5000000000000061-99.9987499921874j))\n"
     ]
    }
   ],
   "source": [
    "a = 100\n",
    "b = 1\n",
    "c = 100\n",
    "print(f(a, b, c))"
   ]
  },
  {
   "cell_type": "code",
   "execution_count": null,
   "metadata": {
    "collapsed": true
   },
   "outputs": [],
   "source": []
  }
 ],
 "metadata": {
  "kernelspec": {
   "display_name": "Python 3",
   "language": "python",
   "name": "python3"
  },
  "language_info": {
   "codemirror_mode": {
    "name": "ipython",
    "version": 3
   },
   "file_extension": ".py",
   "mimetype": "text/x-python",
   "name": "python",
   "nbconvert_exporter": "python",
   "pygments_lexer": "ipython3",
   "version": "3.6.3"
  }
 },
 "nbformat": 4,
 "nbformat_minor": 2
}
