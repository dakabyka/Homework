def f(a1, b1, c1):
    d = (b1**2 - 4*a1*c1)**0.5
    x1 = (-b1 + d)/2
    x2 = (-b1 - d)/2
    if (c1 != 0) and (x1 == 0 or x2 == 0):
        if x2 == 0:
            x2 = -c1 / b1
        if x1 == 0:
            x1 = -c1 / b1
    return x1, x2
