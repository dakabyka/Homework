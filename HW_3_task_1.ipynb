{
 "cells": [
  {
   "cell_type": "markdown",
   "metadata": {},
   "source": [
    "### Словарь"
   ]
  },
  {
   "cell_type": "code",
   "execution_count": 1,
   "metadata": {},
   "outputs": [
    {
     "name": "stdout",
     "output_type": "stream",
     "text": [
      "{10: ['Tonya', 'Masha'], 9: ['Lena', 'Nastya'], 8: ['Marina']}\n"
     ]
    }
   ],
   "source": [
    "myFirstDict = {'Tonya': 10, 'Masha': 10, 'Lena': 9, 'Nastya': 9, 'Marina': 8} \n",
    "mySecondDict = {} \n",
    "for i in myFirstDict: \n",
    "    if myFirstDict[i] not in mySecondDict: \n",
    "        mySecondDict[myFirstDict[i]] = [] \n",
    "    mySecondDict[myFirstDict[i]].append(i) \n",
    "print(mySecondDict)"
   ]
  },
  {
   "cell_type": "code",
   "execution_count": null,
   "metadata": {},
   "outputs": [],
   "source": []
  }
 ],
 "metadata": {
  "kernelspec": {
   "display_name": "Python 3",
   "language": "python",
   "name": "python3"
  },
  "language_info": {
   "codemirror_mode": {
    "name": "ipython",
    "version": 3
   },
   "file_extension": ".py",
   "mimetype": "text/x-python",
   "name": "python",
   "nbconvert_exporter": "python",
   "pygments_lexer": "ipython3",
   "version": "3.6.7"
  }
 },
 "nbformat": 4,
 "nbformat_minor": 2
}
