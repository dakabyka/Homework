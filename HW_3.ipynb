{
 "cells": [
  {
   "cell_type": "markdown",
   "metadata": {},
   "source": [
    "### Homework 3"
   ]
  },
  {
   "cell_type": "code",
   "execution_count": 5,
   "metadata": {},
   "outputs": [
    {
     "name": "stdout",
     "output_type": "stream",
     "text": [
      "{10: ['Tonya', 'Masha'], 9: ['Lena', 'Nastya'], 8: ['Marina']}\n"
     ]
    }
   ],
   "source": [
    "#Словарь#\n",
    "myFirstDict = {'Tonya': 10, 'Masha': 10, 'Lena': 9, 'Nastya': 9, 'Marina': 8} \n",
    "mySecondDict = {} \n",
    "for i in myFirstDict: \n",
    "    if myFirstDict[i] not in mySecondDict: \n",
    "        mySecondDict[myFirstDict[i]] = [] \n",
    "    mySecondDict[myFirstDict[i]].append(i) \n",
    "print(mySecondDict)"
   ]
  },
  {
   "cell_type": "code",
   "execution_count": 3,
   "metadata": {},
   "outputs": [
    {
     "name": "stdout",
     "output_type": "stream",
     "text": [
      "MMCDLIX\n",
      "2459\n"
     ]
    }
   ],
   "source": [
    "#Из римских цифр в арабские#\n",
    "rimStr = str(input()) \n",
    "rimStr = list(rimStr) \n",
    "myDict = {'I': 1, 'V': 5, 'X': 10, 'L': 50, 'C': 100, 'D': 500, 'M': 1000} \n",
    "a = myDict[rimStr[0]] \n",
    "arabN = 0 \n",
    "for i in rimStr[1:-1]: \n",
    "    if a >= myDict[i]: \n",
    "        arabN += a \n",
    "    if a < myDict[i]: \n",
    "        arabN -= a \n",
    "    a = myDict[i] \n",
    "if a >= myDict[rimStr[-1]]: \n",
    "    arabN += a + myDict[rimStr[-1]] \n",
    "else: \n",
    "    arabN += myDict[rimStr[-1]] - a \n",
    "print(arabN)"
   ]
  },
  {
   "cell_type": "code",
   "execution_count": 4,
   "metadata": {},
   "outputs": [
    {
     "name": "stdout",
     "output_type": "stream",
     "text": [
      "2459\n",
      "MMCDLIX\n"
     ]
    }
   ],
   "source": [
    "#Из арабских в римские#\n",
    "def arabToRim(numb): \n",
    "    ones = [\"\", \"I\", \"II\", \"III\", \"IV\", \"V\", \"VI\", \"VII\", \"VIII\", \"IX\"] \n",
    "    tens = [\"\", \"X\", \"XX\", \"XXX\", \"XL\", \"L\", \"LX\", \"LXX\", \"LXXX\", \"XC\"] \n",
    "    hundreds = [\"\", \"C\", \"CC\", \"CCC\", \"CD\", \"D\", \"DC\", \"DCC\", \"DCCC\", \"CM\"] \n",
    "    thousands = [\"\", \"M\", \"MM\", \"MMM\", \"MMMM\"] \n",
    "    t = thousands[numb // 1000] \n",
    "    h = hundreds[numb // 100 % 10] \n",
    "    te = tens[numb // 10 % 10] \n",
    "    o = ones[numb % 10] \n",
    "    return t + h + te + o \n",
    "\n",
    "\n",
    "numb = int(input()) \n",
    "print(arabToRim(numb))"
   ]
  },
  {
   "cell_type": "code",
   "execution_count": null,
   "metadata": {},
   "outputs": [],
   "source": []
  }
 ],
 "metadata": {
  "kernelspec": {
   "display_name": "Python 3",
   "language": "python",
   "name": "python3"
  },
  "language_info": {
   "codemirror_mode": {
    "name": "ipython",
    "version": 3
   },
   "file_extension": ".py",
   "mimetype": "text/x-python",
   "name": "python",
   "nbconvert_exporter": "python",
   "pygments_lexer": "ipython3",
   "version": "3.6.7"
  }
 },
 "nbformat": 4,
 "nbformat_minor": 2
}
